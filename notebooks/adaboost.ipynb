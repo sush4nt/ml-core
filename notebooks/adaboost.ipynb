{
 "cells": [
  {
   "cell_type": "code",
   "execution_count": 20,
   "metadata": {},
   "outputs": [],
   "source": [
    "import numpy as np\n",
    "import pandas as pd\n",
    "pd.set_option('display.max_columns', 100)\n",
    "from sklearn import datasets\n",
    "from sklearn.model_selection import train_test_split\n",
    "\n",
    "from mlcore.decision_tree import CustomDecisionTreeClassifier"
   ]
  },
  {
   "cell_type": "code",
   "execution_count": 21,
   "metadata": {},
   "outputs": [],
   "source": [
    "def accuracy(y_true, y_pred):\n",
    "    accuracy = np.sum(y_true == y_pred) / len(y_true)\n",
    "    return accuracy\n",
    "X, y = datasets.make_classification(n_samples=10000, n_features=30, random_state=4)\n",
    "X_train, X_test, y_train, y_test = train_test_split(X, y, test_size=0.2, random_state=1234)"
   ]
  },
  {
   "cell_type": "code",
   "execution_count": 22,
   "metadata": {},
   "outputs": [],
   "source": [
    "class CustomAdaBoostClassifier():\n",
    "    def __init__(self,\n",
    "        n_estimators=50,\n",
    "        learning_rate=1.0,\n",
    "        random_state=None,\n",
    "        **stump_kwargs\n",
    "        ):\n",
    "        self.n_estimators = n_estimators\n",
    "        self.learning_rate = learning_rate\n",
    "        self.random_state = random_state\n",
    "        self.stump_kwargs = {**stump_kwargs, 'max_depth': 1}\n",
    "        self.stump_learners = []\n",
    "        self.rnd = np.random.RandomState(self.random_state)\n",
    "        # self.seeds = [self.rnd.randint(0, int(1e6)) for _ in range(self.n_estimators)]\n",
    "\n",
    "    def fit(self, X, y):\n",
    "        # Convert to arrays and map classes\n",
    "        X = np.array(X)\n",
    "        y = np.array(y)\n",
    "        num_samples, num_features = X.shape\n",
    "        self.classes_ = np.unique(y)\n",
    "        y_mapped = np.where(y == self.classes_[0], -1, 1)\n",
    "        # Initialize with even sample weights\n",
    "        self.sample_weights = np.full(num_samples, 1 / num_samples)\n",
    "\n",
    "        for est in range(self.n_estimators):\n",
    "            # X_sample, y_sample = self._bootstrap_dataset(X, y_mapped, seed=self.seeds[est])\n",
    "            indices = self.rnd.choice(\n",
    "                num_samples,\n",
    "                size=num_samples,\n",
    "                replace=True,\n",
    "                p=self.sample_weights\n",
    "            )\n",
    "\n",
    "            X_sample       = X[indices]\n",
    "            y_sample_orig  = y[indices]        # values in {0,1}\n",
    "            y_sample_mapped= y_mapped[indices] # values in {-1,+1}\n",
    "\n",
    "            stump = CustomDecisionTreeClassifier(\n",
    "                **self.stump_kwargs,\n",
    "                random_state=self.rnd.randint(0, int(1e6))\n",
    "            )\n",
    "            stump.fit(X_sample, y_sample_orig)\n",
    "            stump_preds = stump.predict(X)\n",
    "            mapped_stump_preds = np.where(stump_preds == self.classes_[0], -1, 1)\n",
    "\n",
    "            # calculate weighted error\n",
    "            misclassifications = (mapped_stump_preds != y_mapped)\n",
    "            eps = np.dot(self.sample_weights, misclassifications)\n",
    "            eps = np.clip(eps, 1e-10, 1 - 1e-10)\n",
    "\n",
    "            # stump importance \n",
    "            alpha = self.learning_rate * 0.5 * np.log( (1-eps)/ eps )\n",
    "\n",
    "            # reassign weights\n",
    "            self.sample_weights = self.sample_weights * np.exp(-alpha * y_mapped * mapped_stump_preds)\n",
    "            self.sample_weights /= np.sum(self.sample_weights)\n",
    "\n",
    "            self.stump_learners.append((stump, alpha))\n",
    "\n",
    "        return self\n",
    "    \n",
    "    def predict(self, X):\n",
    "        X = np.array(X)\n",
    "        stump_preds = np.zeros(X.shape[0])\n",
    "        \n",
    "        for stump, alpha in self.stump_learners:\n",
    "            stump_preds += alpha * np.where(stump.predict(X) == self.classes_[0], -1, 1)\n",
    "\n",
    "        return np.where(stump_preds >= 0, self.classes_[1], self.classes_[0])\n",
    "    \n",
    "    def predict_proba(self, X):\n",
    "        X = np.array(X)\n",
    "        stump_preds = np.zeros(X.shape[0])\n",
    "\n",
    "        for stump, alpha in self.learners:\n",
    "            stump_preds += alpha * np.where(stump.predict(X) == self.classes_[0], -1, 1)\n",
    "\n",
    "        expF  = np.exp(stump_preds)\n",
    "        expmF = np.exp(-stump_preds)\n",
    "        p_pos = expF / (expF + expmF)\n",
    "        return np.vstack([1 - p_pos, p_pos]).T\n",
    "\n",
    "    # def _bootstrap_dataset(self, X, y, seed):\n",
    "    #     rnd = np.random.RandomState(seed)\n",
    "    #     n_samples = X.shape[0]\n",
    "    #     indices = rnd.choice(n_samples, n_samples, replace=True)\n",
    "    #     return X[indices], y[indices]\n"
   ]
  },
  {
   "cell_type": "code",
   "execution_count": 23,
   "metadata": {},
   "outputs": [
    {
     "name": "stdout",
     "output_type": "stream",
     "text": [
      "Custom AdaBoost Classifier Accuracy: 0.8975\n"
     ]
    }
   ],
   "source": [
    "custom_ada = CustomAdaBoostClassifier(\n",
    "    n_estimators=50,\n",
    "    learning_rate=1.0,\n",
    "    random_state=42\n",
    ")\n",
    "\n",
    "custom_ada.fit(X_train, y_train)\n",
    "y_pred = custom_ada.predict(X_test)\n",
    "\n",
    "print(f\"Custom AdaBoost Classifier Accuracy: {accuracy(y_test, y_pred):.4f}\")\n"
   ]
  },
  {
   "cell_type": "code",
   "execution_count": 24,
   "metadata": {},
   "outputs": [
    {
     "name": "stdout",
     "output_type": "stream",
     "text": [
      "Scikit-learn AdaBoost Classifier Accuracy: 0.9015\n"
     ]
    }
   ],
   "source": [
    "from sklearn.ensemble import AdaBoostClassifier\n",
    "\n",
    "sklearn_ada = AdaBoostClassifier(\n",
    "    n_estimators=50,\n",
    "    learning_rate=1.0,\n",
    "    random_state=42\n",
    ")\n",
    "sklearn_ada.fit(X_train, y_train)\n",
    "y_pred_sklearn = sklearn_ada.predict(X_test)\n",
    "print(f\"Scikit-learn AdaBoost Classifier Accuracy: {accuracy(y_test, y_pred_sklearn):.4f}\")"
   ]
  },
  {
   "cell_type": "code",
   "execution_count": null,
   "metadata": {},
   "outputs": [],
   "source": []
  }
 ],
 "metadata": {
  "kernelspec": {
   "display_name": ".venv-mlcore",
   "language": "python",
   "name": "python3"
  },
  "language_info": {
   "codemirror_mode": {
    "name": "ipython",
    "version": 3
   },
   "file_extension": ".py",
   "mimetype": "text/x-python",
   "name": "python",
   "nbconvert_exporter": "python",
   "pygments_lexer": "ipython3",
   "version": "3.12.7"
  }
 },
 "nbformat": 4,
 "nbformat_minor": 2
}
