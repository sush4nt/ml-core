{
 "cells": [
  {
   "cell_type": "code",
   "execution_count": 50,
   "metadata": {},
   "outputs": [],
   "source": [
    "import os\n",
    "import numpy as np\n",
    "from joblib import Parallel, delayed"
   ]
  },
  {
   "cell_type": "code",
   "execution_count": 70,
   "metadata": {},
   "outputs": [],
   "source": [
    "def euclidean_distance(a,b):\n",
    "    return np.sqrt(np.sum((a - b) ** 2))\n",
    "\n",
    "class CustomKNN:\n",
    "    def __init__(self, k=1, n_jobs=-1):\n",
    "        self.k = k\n",
    "        self.n_jobs = n_jobs\n",
    "\n",
    "    def fit(self, X, y):\n",
    "        if self.k > X.shape[0]:\n",
    "            raise ValueError(\"k cannot be greater than the number of training samples.\")\n",
    "        self.X_train = X\n",
    "        self.y_train = y\n",
    "    \n",
    "    def predict(self, X):\n",
    "        y_preds = Parallel(n_jobs=self.n_jobs)(\n",
    "            delayed(self._get_neighbors)(x) for x in np.array(X)\n",
    "        )\n",
    "        # y_preds = [self._get_neighbors(x) for x in X]\n",
    "        return np.array(y_preds)\n",
    "    \n",
    "    def _get_neighbors(self, x):\n",
    "        # distances = [euclidean_distance(x, x_train) for x_train in self.X_train]\n",
    "        distances = np.sqrt(np.sum((self.X_train - x) ** 2, axis=1))\n",
    "        sorted_indices = np.argpartition(distances, self.k)[:self.k]\n",
    "        nearest_labels = self.y_train[sorted_indices]\n",
    "        return np.bincount(nearest_labels).argmax()"
   ]
  },
  {
   "cell_type": "code",
   "execution_count": 76,
   "metadata": {},
   "outputs": [],
   "source": [
    "from sklearn import datasets\n",
    "from sklearn.model_selection import train_test_split\n",
    "\n",
    "# iris = datasets.load_iris()\n",
    "# X, y = iris.data, iris.target\n",
    "\n",
    "# X_train, X_test, y_train, y_test = train_test_split(\n",
    "#     X, y, test_size=0.2, random_state=1234\n",
    "# )\n",
    "X, y = datasets.make_classification(\n",
    "    n_samples=100000, n_features=4, random_state=4\n",
    ")\n",
    "\n",
    "X_train, X_test, y_train, y_test = train_test_split(\n",
    "    X, y, test_size=0.2, random_state=1234\n",
    ")"
   ]
  },
  {
   "cell_type": "code",
   "execution_count": 77,
   "metadata": {},
   "outputs": [
    {
     "data": {
      "text/plain": [
       "((80000, 4), (80000,), (20000, 4), (20000,))"
      ]
     },
     "execution_count": 77,
     "metadata": {},
     "output_type": "execute_result"
    }
   ],
   "source": [
    "X_train.shape, y_train.shape, X_test.shape, y_test.shape"
   ]
  },
  {
   "cell_type": "code",
   "execution_count": 78,
   "metadata": {},
   "outputs": [],
   "source": [
    "k=5\n",
    "knn = CustomKNN(k=k)\n",
    "knn.fit(X_train, y_train)\n",
    "y_preds = knn.predict(X_test)"
   ]
  },
  {
   "cell_type": "code",
   "execution_count": 79,
   "metadata": {},
   "outputs": [
    {
     "name": "stdout",
     "output_type": "stream",
     "text": [
      "Custom KNN accuracy with k=5: 0.9600\n"
     ]
    }
   ],
   "source": [
    "from sklearn.metrics import accuracy_score\n",
    "\n",
    "accuracy = accuracy_score(y_test, y_preds)\n",
    "print(f\"Custom KNN accuracy with k={k}: {accuracy:.4f}\")"
   ]
  },
  {
   "cell_type": "code",
   "execution_count": 80,
   "metadata": {},
   "outputs": [
    {
     "name": "stdout",
     "output_type": "stream",
     "text": [
      "sklearn KNN accuracy with k=5: 0.9600\n"
     ]
    }
   ],
   "source": [
    "from sklearn.neighbors import KNeighborsClassifier\n",
    "\n",
    "knn_og = KNeighborsClassifier(n_neighbors=k)\n",
    "knn_og.fit(X_train, y_train)\n",
    "y_preds_og = knn_og.predict(X_test)\n",
    "\n",
    "accuracy_og = accuracy_score(y_test, y_preds_og)\n",
    "print(f\"sklearn KNN accuracy with k={k}: {accuracy_og:.4f}\")"
   ]
  },
  {
   "cell_type": "code",
   "execution_count": null,
   "metadata": {},
   "outputs": [],
   "source": []
  }
 ],
 "metadata": {
  "kernelspec": {
   "display_name": ".venv-mlcore",
   "language": "python",
   "name": "python3"
  },
  "language_info": {
   "codemirror_mode": {
    "name": "ipython",
    "version": 3
   },
   "file_extension": ".py",
   "mimetype": "text/x-python",
   "name": "python",
   "nbconvert_exporter": "python",
   "pygments_lexer": "ipython3",
   "version": "3.12.7"
  }
 },
 "nbformat": 4,
 "nbformat_minor": 2
}
