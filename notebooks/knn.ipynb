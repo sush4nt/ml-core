{
 "cells": [
  {
   "cell_type": "code",
   "execution_count": 2,
   "metadata": {},
   "outputs": [],
   "source": [
    "from sklearn import datasets\n",
    "from sklearn.metrics import accuracy_score\n",
    "from sklearn.model_selection import train_test_split\n",
    "\n",
    "import sys\n",
    "sys.path.append('../')\n",
    "from mlcore.knn import CustomKNN"
   ]
  },
  {
   "cell_type": "code",
   "execution_count": 4,
   "metadata": {},
   "outputs": [],
   "source": [
    "X, y = datasets.make_classification(\n",
    "    n_samples=100000, n_features=4, random_state=4\n",
    ")\n",
    "\n",
    "X_train, X_test, y_train, y_test = train_test_split(\n",
    "    X, y, test_size=0.2, random_state=1234\n",
    ")"
   ]
  },
  {
   "cell_type": "code",
   "execution_count": 5,
   "metadata": {},
   "outputs": [
    {
     "data": {
      "text/plain": [
       "((80000, 4), (80000,), (20000, 4), (20000,))"
      ]
     },
     "execution_count": 5,
     "metadata": {},
     "output_type": "execute_result"
    }
   ],
   "source": [
    "X_train.shape, y_train.shape, X_test.shape, y_test.shape"
   ]
  },
  {
   "cell_type": "code",
   "execution_count": 6,
   "metadata": {},
   "outputs": [],
   "source": [
    "k=5\n",
    "knn = CustomKNN(k=k)\n",
    "knn.fit(X_train, y_train)\n",
    "y_preds = knn.predict(X_test)"
   ]
  },
  {
   "cell_type": "code",
   "execution_count": 7,
   "metadata": {},
   "outputs": [
    {
     "name": "stdout",
     "output_type": "stream",
     "text": [
      "Custom KNN accuracy with k=5: 0.9600\n"
     ]
    }
   ],
   "source": [
    "accuracy = accuracy_score(y_test, y_preds)\n",
    "print(f\"Custom KNN accuracy with k={k}: {accuracy:.4f}\")"
   ]
  },
  {
   "cell_type": "code",
   "execution_count": 8,
   "metadata": {},
   "outputs": [
    {
     "name": "stdout",
     "output_type": "stream",
     "text": [
      "sklearn KNN accuracy with k=5: 0.9600\n"
     ]
    }
   ],
   "source": [
    "from sklearn.neighbors import KNeighborsClassifier\n",
    "\n",
    "knn_og = KNeighborsClassifier(n_neighbors=k)\n",
    "knn_og.fit(X_train, y_train)\n",
    "y_preds_og = knn_og.predict(X_test)\n",
    "\n",
    "accuracy_og = accuracy_score(y_test, y_preds_og)\n",
    "print(f\"sklearn KNN accuracy with k={k}: {accuracy_og:.4f}\")"
   ]
  },
  {
   "cell_type": "markdown",
   "metadata": {},
   "source": [
    "### with `manhattan` distance"
   ]
  },
  {
   "cell_type": "code",
   "execution_count": 9,
   "metadata": {},
   "outputs": [
    {
     "name": "stdout",
     "output_type": "stream",
     "text": [
      "Custom KNN accuracy with k=5: 0.9593\n"
     ]
    }
   ],
   "source": [
    "k=5\n",
    "knn_mhn = CustomKNN(k=k, metric='manhattan')\n",
    "knn_mhn.fit(X_train, y_train)\n",
    "y_preds = knn_mhn.predict(X_test)\n",
    "\n",
    "accuracy = accuracy_score(y_test, y_preds)\n",
    "print(f\"Custom KNN accuracy with k={k}: {accuracy:.4f}\")"
   ]
  },
  {
   "cell_type": "code",
   "execution_count": 10,
   "metadata": {},
   "outputs": [
    {
     "name": "stdout",
     "output_type": "stream",
     "text": [
      "sklearn KNN accuracy with k=5: 0.9593\n"
     ]
    }
   ],
   "source": [
    "from sklearn.neighbors import KNeighborsClassifier\n",
    "\n",
    "knn_og = KNeighborsClassifier(n_neighbors=k, p=1, metric='minkowski')\n",
    "knn_og.fit(X_train, y_train)\n",
    "y_preds_og = knn_og.predict(X_test)\n",
    "\n",
    "accuracy_og = accuracy_score(y_test, y_preds_og)\n",
    "print(f\"sklearn KNN accuracy with k={k}: {accuracy_og:.4f}\")"
   ]
  },
  {
   "cell_type": "code",
   "execution_count": null,
   "metadata": {},
   "outputs": [],
   "source": []
  }
 ],
 "metadata": {
  "kernelspec": {
   "display_name": ".venv-mlcore",
   "language": "python",
   "name": "python3"
  },
  "language_info": {
   "codemirror_mode": {
    "name": "ipython",
    "version": 3
   },
   "file_extension": ".py",
   "mimetype": "text/x-python",
   "name": "python",
   "nbconvert_exporter": "python",
   "pygments_lexer": "ipython3",
   "version": "3.12.7"
  }
 },
 "nbformat": 4,
 "nbformat_minor": 2
}
