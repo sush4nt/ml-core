{
 "cells": [
  {
   "cell_type": "code",
   "execution_count": 1,
   "metadata": {},
   "outputs": [],
   "source": [
    "import numpy as np"
   ]
  },
  {
   "cell_type": "code",
   "execution_count": 57,
   "metadata": {},
   "outputs": [],
   "source": [
    "class CustomLinearSVM():\n",
    "    def __init__(self, learning_rate=0.01, C=0.1, n_iters=1000):\n",
    "        self.learning_rate = learning_rate\n",
    "        self.C = C\n",
    "        self.n_iters = n_iters\n",
    "        self.weights = None\n",
    "        self.bias = None\n",
    "\n",
    "    def fit(self, X,y):\n",
    "        n_rows, n_cols = X.shape\n",
    "        # (n,1)\n",
    "        self.weights = np.zeros(n_cols)\n",
    "        self.bias = 0\n",
    "\n",
    "        for i in range(self.n_iters):\n",
    "            # (m,n) x (n, 1) = (m, 1)\n",
    "            # input vector projections on w vector\n",
    "            # >0 means positive class, <0 means negative class \n",
    "            projections = np.dot(X, self.weights) + self.bias\n",
    "            margins = 1 - y * projections\n",
    "\n",
    "            # cost function\n",
    "            cost_margins = np.dot(self.weights, self.weights.T)/2\n",
    "            cost_misclassifications = (self.C / 1) * np.sum(np.maximum(0, margins))\n",
    "            cost = cost_margins + cost_misclassifications\n",
    "\n",
    "            # gradients\n",
    "            dW = self.weights - (self.C / 1) * np.dot(X.T, y * (margins > 0))\n",
    "            dB = 0 - (self.C / 1) * np.sum(y * (margins > 0))\n",
    "\n",
    "            # update weights and bias\n",
    "            lr_decayed = self.learning_rate / (1 + self.learning_rate * (i+1) / self.C)\n",
    "            self.weights -= lr_decayed * dW\n",
    "            self.bias -= lr_decayed * dB\n",
    "        \n",
    "    def predict(self, X):\n",
    "        # (m,n) * (n,1) = (m,1)\n",
    "        projections = np.dot(X, self.weights) + self.bias\n",
    "        return np.sign(projections)"
   ]
  },
  {
   "cell_type": "code",
   "execution_count": 58,
   "metadata": {},
   "outputs": [],
   "source": [
    "import numpy as np\n",
    "import matplotlib.pyplot as plt\n",
    "from sklearn.linear_model import LogisticRegression\n",
    "from sklearn.model_selection import train_test_split\n",
    "from sklearn import datasets\n",
    "from sklearn.metrics import accuracy_score"
   ]
  },
  {
   "cell_type": "code",
   "execution_count": 59,
   "metadata": {},
   "outputs": [],
   "source": [
    "def mean_squared_error(y_true, y_pred):\n",
    "    return np.mean((y_true - y_pred) ** 2)"
   ]
  },
  {
   "cell_type": "code",
   "execution_count": 60,
   "metadata": {},
   "outputs": [],
   "source": [
    "X, y = datasets.make_classification(\n",
    "    n_samples=100000, n_features=4, random_state=4\n",
    ")\n",
    "\n",
    "X_train, X_test, y_train, y_test = train_test_split(\n",
    "    X, y, test_size=0.2, random_state=1234\n",
    ")"
   ]
  },
  {
   "cell_type": "code",
   "execution_count": 61,
   "metadata": {},
   "outputs": [],
   "source": [
    "y_train = np.where(y_train <= 0, -1, 1)\n",
    "y_test = np.where(y_test <= 0, -1, 1)"
   ]
  },
  {
   "cell_type": "code",
   "execution_count": 62,
   "metadata": {},
   "outputs": [
    {
     "name": "stdout",
     "output_type": "stream",
     "text": [
      "MSE: 0.3686\n",
      "Accuracy: 0.90785\n"
     ]
    }
   ],
   "source": [
    "model = CustomLinearSVM(learning_rate=0.001, n_iters=1000, C=1.0)\n",
    "model.fit(X_train, y_train)\n",
    "predictions = model.predict(X_test)\n",
    "\n",
    "mse = mean_squared_error(y_test, predictions)\n",
    "print(\"MSE:\", mse)\n",
    "\n",
    "accu = accuracy_score(y_test, predictions)\n",
    "print(\"Accuracy:\", accu)"
   ]
  },
  {
   "cell_type": "code",
   "execution_count": 63,
   "metadata": {},
   "outputs": [
    {
     "name": "stdout",
     "output_type": "stream",
     "text": [
      "SVC MSE: 0.3682\n",
      "SVC Accuracy: 0.90795\n"
     ]
    }
   ],
   "source": [
    "from sklearn.svm import SVC\n",
    "\n",
    "svc = SVC(kernel='linear', C=1.0, random_state=1234)\n",
    "svc.fit(X_train, y_train)\n",
    "svc_predictions = svc.predict(X_test)\n",
    "\n",
    "svc_mse = mean_squared_error(y_test, svc_predictions)\n",
    "print(\"SVC MSE:\", svc_mse)\n",
    "\n",
    "svc_accu = accuracy_score(y_test, svc_predictions)\n",
    "print(\"SVC Accuracy:\", svc_accu)"
   ]
  },
  {
   "cell_type": "code",
   "execution_count": null,
   "metadata": {},
   "outputs": [],
   "source": []
  }
 ],
 "metadata": {
  "kernelspec": {
   "display_name": ".venv-mlcore",
   "language": "python",
   "name": "python3"
  },
  "language_info": {
   "codemirror_mode": {
    "name": "ipython",
    "version": 3
   },
   "file_extension": ".py",
   "mimetype": "text/x-python",
   "name": "python",
   "nbconvert_exporter": "python",
   "pygments_lexer": "ipython3",
   "version": "3.12.7"
  }
 },
 "nbformat": 4,
 "nbformat_minor": 2
}
