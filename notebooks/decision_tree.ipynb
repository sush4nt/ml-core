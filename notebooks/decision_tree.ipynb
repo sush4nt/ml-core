{
 "cells": [
  {
   "cell_type": "markdown",
   "metadata": {},
   "source": [
    "## Pseudo code: Decision Tree"
   ]
  },
  {
   "cell_type": "markdown",
   "metadata": {},
   "source": [
    "```\n",
    "function build_tree(data, labels, depth=0):\n",
    "    if stop_condition(data, labels, depth):\n",
    "        return LeafNode(class = majority_class(labels))\n",
    "    \n",
    "    best_gain = 0\n",
    "    best_feat, best_thresh = None, None\n",
    "    parent_impurity = impurity(labels)\n",
    "\n",
    "    for each feature j in 1…D:\n",
    "        for each threshold t in unique_values(data[:,j]):\n",
    "            left_labels  = labels[data[:,j] ≤ t]\n",
    "            right_labels = labels[data[:,j] >  t]\n",
    "\n",
    "            if len(left_labels)==0 or len(right_labels)==0: continue\n",
    "\n",
    "            gain = parent_impurity \\\n",
    "                   - (|left|/|total|)*impurity(left_labels) \\\n",
    "                   - (|right|/|total|)*impurity(right_labels)\n",
    "\n",
    "            if gain > best_gain:\n",
    "                best_gain, best_feat, best_thresh = gain, j, t\n",
    "\n",
    "    if best_gain < min_impurity_decrease:\n",
    "        return LeafNode(class = majority_class(labels))\n",
    "\n",
    "    left_data, left_labels  = split(data, labels, best_feat, best_thresh, side=\"left\")\n",
    "    right_data, right_labels = split(data, labels, best_feat, best_thresh, side=\"right\")\n",
    "\n",
    "    left_subtree  = build_tree(left_data,  left_labels,  depth+1)\n",
    "    right_subtree = build_tree(right_data, right_labels, depth+1)\n",
    "\n",
    "    return DecisionNode(\n",
    "        feature_index = best_feat,\n",
    "        threshold     = best_thresh,\n",
    "        left          = left_subtree,\n",
    "        right         = right_subtree\n",
    "    )\n",
    "\n",
    "```"
   ]
  },
  {
   "cell_type": "code",
   "execution_count": 1,
   "metadata": {},
   "outputs": [],
   "source": [
    "import numpy as np\n",
    "import pandas as pd\n",
    "pd.set_option('display.max_columns', 100)\n",
    "from sklearn import datasets\n",
    "from sklearn.model_selection import train_test_split\n",
    "from sklearn.tree import DecisionTreeClassifier\n",
    "\n",
    "from mlcore.decision_tree import CustomDecisionTreeClassifier"
   ]
  },
  {
   "cell_type": "code",
   "execution_count": 2,
   "metadata": {},
   "outputs": [],
   "source": [
    "def accuracy(y_true, y_pred):\n",
    "    accuracy = np.sum(y_true == y_pred) / len(y_true)\n",
    "    return accuracy\n",
    "X, y = datasets.make_classification(n_samples=10000, n_features=10, random_state=4)\n",
    "X_train, X_test, y_train, y_test = train_test_split(X, y, test_size=0.2, random_state=1234)"
   ]
  },
  {
   "cell_type": "code",
   "execution_count": 7,
   "metadata": {},
   "outputs": [
    {
     "name": "stdout",
     "output_type": "stream",
     "text": [
      "Accuracy: 0.8905\n"
     ]
    }
   ],
   "source": [
    "tree = CustomDecisionTreeClassifier(\n",
    "                                max_depth=5, \n",
    "                                max_features=\"sqrt\",\n",
    "                                min_samples_split=2, \n",
    "                                min_samples_leaf=1,\n",
    "                                criterion=\"gini\",\n",
    "                                min_impurity_decrease=1e-7,\n",
    "                                random_state=42\n",
    "                                )\n",
    "tree.fit(X_train, y_train)\n",
    "y_pred = tree.predict(X_test)\n",
    "\n",
    "print(\"Accuracy:\", accuracy(y_test, y_pred))"
   ]
  },
  {
   "cell_type": "code",
   "execution_count": 8,
   "metadata": {},
   "outputs": [
    {
     "name": "stdout",
     "output_type": "stream",
     "text": [
      "Sklearn Accuracy: 0.8915\n"
     ]
    }
   ],
   "source": [
    "sk_tree = DecisionTreeClassifier(\n",
    "                            max_depth=5, \n",
    "                            max_features=\"sqrt\",\n",
    "                            min_samples_split=2, \n",
    "                            min_samples_leaf=1,\n",
    "                            criterion=\"gini\",\n",
    "                            min_impurity_decrease=1e-7,\n",
    "                            random_state=42\n",
    "                            )\n",
    "sk_tree.fit(X_train, y_train)\n",
    "y_sk_pred = sk_tree.predict(X_test)\n",
    "\n",
    "print(\"Sklearn Accuracy:\", accuracy(y_test, y_sk_pred))"
   ]
  },
  {
   "cell_type": "code",
   "execution_count": 5,
   "metadata": {},
   "outputs": [
    {
     "name": "stdout",
     "output_type": "stream",
     "text": [
      "Feature[5] ≤ 0.0018  |  Gain=0.2738\n",
      "→ True branch:\n",
      "    Feature[0] ≤ 1.0656  |  Gain=0.0104\n",
      "    → True branch:\n",
      "        Feature[0] ≤ 0.7066  |  Gain=0.0724\n",
      "        → True branch:\n",
      "            Feature[6] ≤ 0.8228  |  Gain=0.0150\n",
      "            → True branch:\n",
      "                Feature[5] ≤ -0.1705  |  Gain=0.0129\n",
      "                → True branch:\n",
      "                    Predict: 1 (samples=2035)\n",
      "                → False branch:\n",
      "                    Predict: 1 (samples=609)\n",
      "            → False branch:\n",
      "                Feature[8] ≤ -1.3127  |  Gain=0.0235\n",
      "                → True branch:\n",
      "                    Predict: 0 (samples=12)\n",
      "                → False branch:\n",
      "                    Predict: 1 (samples=102)\n",
      "        → False branch:\n",
      "            Feature[2] ≤ 0.6896  |  Gain=0.0884\n",
      "            → True branch:\n",
      "                Feature[8] ≤ 2.2682  |  Gain=0.0052\n",
      "                → True branch:\n",
      "                    Predict: 0 (samples=303)\n",
      "                → False branch:\n",
      "                    Predict: 1 (samples=5)\n",
      "            → False branch:\n",
      "                Feature[2] ≤ 1.6493  |  Gain=0.0396\n",
      "                → True branch:\n",
      "                    Predict: 1 (samples=185)\n",
      "                → False branch:\n",
      "                    Predict: 1 (samples=65)\n",
      "    → False branch:\n",
      "        Feature[2] ≤ 0.4216  |  Gain=0.0003\n",
      "        → True branch:\n",
      "            Feature[2] ≤ 0.4178  |  Gain=0.0118\n",
      "            → True branch:\n",
      "                Feature[5] ≤ -0.0080  |  Gain=0.0009\n",
      "                → True branch:\n",
      "                    Predict: 1 (samples=149)\n",
      "                → False branch:\n",
      "                    Predict: 1 (samples=8)\n",
      "            → False branch:\n",
      "                Predict: 0 (samples=1)\n",
      "        → False branch:\n",
      "            Feature[3] ≤ 1.7539  |  Gain=0.0001\n",
      "            → True branch:\n",
      "                Feature[4] ≤ -1.6475  |  Gain=0.0001\n",
      "                → True branch:\n",
      "                    Predict: 1 (samples=40)\n",
      "                → False branch:\n",
      "                    Predict: 1 (samples=673)\n",
      "            → False branch:\n",
      "                Feature[0] ≤ 1.3431  |  Gain=0.0155\n",
      "                → True branch:\n",
      "                    Predict: 1 (samples=5)\n",
      "                → False branch:\n",
      "                    Predict: 1 (samples=14)\n",
      "→ False branch:\n",
      "    Feature[6] ≤ -0.5758  |  Gain=0.0282\n",
      "    → True branch:\n",
      "        Feature[4] ≤ -1.5368  |  Gain=0.0122\n",
      "        → True branch:\n",
      "            Feature[1] ≤ 0.0737  |  Gain=0.2222\n",
      "            → True branch:\n",
      "                Predict: 1 (samples=3)\n",
      "            → False branch:\n",
      "                Feature[8] ≤ 1.5504  |  Gain=0.4444\n",
      "                → True branch:\n",
      "                    Predict: 0 (samples=2)\n",
      "                → False branch:\n",
      "                    Predict: 1 (samples=1)\n",
      "        → False branch:\n",
      "            Feature[0] ≤ 1.1744  |  Gain=0.0262\n",
      "            → True branch:\n",
      "                Predict: 0 (samples=1)\n",
      "            → False branch:\n",
      "                Feature[2] ≤ -0.5960  |  Gain=0.0041\n",
      "                → True branch:\n",
      "                    Predict: 1 (samples=20)\n",
      "                → False branch:\n",
      "                    Predict: 1 (samples=50)\n",
      "    → False branch:\n",
      "        Feature[7] ≤ 3.2015  |  Gain=0.0004\n",
      "        → True branch:\n",
      "            Feature[5] ≤ 0.1492  |  Gain=0.0242\n",
      "            → True branch:\n",
      "                Feature[6] ≤ -0.3360  |  Gain=0.0734\n",
      "                → True branch:\n",
      "                    Predict: 0 (samples=274)\n",
      "                → False branch:\n",
      "                    Predict: 0 (samples=445)\n",
      "            → False branch:\n",
      "                Feature[6] ≤ 0.8808  |  Gain=0.0022\n",
      "                → True branch:\n",
      "                    Predict: 0 (samples=2244)\n",
      "                → False branch:\n",
      "                    Predict: 0 (samples=753)\n",
      "        → False branch:\n",
      "            Predict: 1 (samples=1)\n"
     ]
    }
   ],
   "source": [
    "CustomDecisionTreeClassifier.print_tree(tree)"
   ]
  },
  {
   "cell_type": "code",
   "execution_count": null,
   "metadata": {},
   "outputs": [],
   "source": []
  },
  {
   "cell_type": "code",
   "execution_count": null,
   "metadata": {},
   "outputs": [],
   "source": []
  }
 ],
 "metadata": {
  "kernelspec": {
   "display_name": ".venv-mlcore",
   "language": "python",
   "name": "python3"
  },
  "language_info": {
   "codemirror_mode": {
    "name": "ipython",
    "version": 3
   },
   "file_extension": ".py",
   "mimetype": "text/x-python",
   "name": "python",
   "nbconvert_exporter": "python",
   "pygments_lexer": "ipython3",
   "version": "3.12.7"
  }
 },
 "nbformat": 4,
 "nbformat_minor": 2
}
