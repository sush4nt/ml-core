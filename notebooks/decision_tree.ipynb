{
 "cells": [
  {
   "cell_type": "markdown",
   "metadata": {},
   "source": [
    "## Pseudo code: Decision Tree"
   ]
  },
  {
   "cell_type": "markdown",
   "metadata": {},
   "source": [
    "```\n",
    "function build_tree(data, labels, depth=0):\n",
    "    if stop_condition(data, labels, depth):\n",
    "        return LeafNode(class = majority_class(labels))\n",
    "    \n",
    "    best_gain = 0\n",
    "    best_feat, best_thresh = None, None\n",
    "    parent_impurity = impurity(labels)\n",
    "\n",
    "    for each feature j in 1…D:\n",
    "        for each threshold t in unique_values(data[:,j]):\n",
    "            left_labels  = labels[data[:,j] ≤ t]\n",
    "            right_labels = labels[data[:,j] >  t]\n",
    "\n",
    "            if len(left_labels)==0 or len(right_labels)==0: continue\n",
    "\n",
    "            gain = parent_impurity \\\n",
    "                   - (|left|/|total|)*impurity(left_labels) \\\n",
    "                   - (|right|/|total|)*impurity(right_labels)\n",
    "\n",
    "            if gain > best_gain:\n",
    "                best_gain, best_feat, best_thresh = gain, j, t\n",
    "\n",
    "    if best_gain < min_impurity_decrease:\n",
    "        return LeafNode(class = majority_class(labels))\n",
    "\n",
    "    left_data, left_labels  = split(data, labels, best_feat, best_thresh, side=\"left\")\n",
    "    right_data, right_labels = split(data, labels, best_feat, best_thresh, side=\"right\")\n",
    "\n",
    "    left_subtree  = build_tree(left_data,  left_labels,  depth+1)\n",
    "    right_subtree = build_tree(right_data, right_labels, depth+1)\n",
    "\n",
    "    return DecisionNode(\n",
    "        feature_index = best_feat,\n",
    "        threshold     = best_thresh,\n",
    "        left          = left_subtree,\n",
    "        right         = right_subtree\n",
    "    )\n",
    "\n",
    "```"
   ]
  },
  {
   "cell_type": "code",
   "execution_count": 6,
   "metadata": {},
   "outputs": [],
   "source": [
    "import numpy as np\n",
    "import pandas as pd\n",
    "pd.set_option('display.max_columns', 100)\n",
    "from sklearn import datasets\n",
    "from sklearn.model_selection import train_test_split\n",
    "from sklearn.tree import DecisionTreeClassifier\n",
    "\n",
    "from mlcore.decision_tree import CustomDecisionTreeClassifier"
   ]
  },
  {
   "cell_type": "code",
   "execution_count": 7,
   "metadata": {},
   "outputs": [],
   "source": [
    "def accuracy(y_true, y_pred):\n",
    "    accuracy = np.sum(y_true == y_pred) / len(y_true)\n",
    "    return accuracy\n",
    "X, y = datasets.make_classification(n_samples=10000, n_features=10, random_state=4)\n",
    "X_train, X_test, y_train, y_test = train_test_split(X, y, test_size=0.2, random_state=1234)"
   ]
  },
  {
   "cell_type": "code",
   "execution_count": 8,
   "metadata": {},
   "outputs": [
    {
     "name": "stdout",
     "output_type": "stream",
     "text": [
      "Accuracy: 0.8875\n"
     ]
    }
   ],
   "source": [
    "tree = CustomDecisionTreeClassifier(max_depth=5, min_samples_split=2, criterion=\"gini\")\n",
    "tree.fit(X_train, y_train)\n",
    "y_pred = tree.predict(X_test)\n",
    "\n",
    "print(\"Accuracy:\", accuracy(y_test, y_pred))"
   ]
  },
  {
   "cell_type": "code",
   "execution_count": 9,
   "metadata": {},
   "outputs": [
    {
     "name": "stdout",
     "output_type": "stream",
     "text": [
      "Sklearn Accuracy: 0.8875\n"
     ]
    }
   ],
   "source": [
    "sk_tree = DecisionTreeClassifier(max_depth=5, min_samples_split=2, criterion=\"gini\")\n",
    "sk_tree.fit(X_train, y_train)\n",
    "y_sk_pred = sk_tree.predict(X_test)\n",
    "\n",
    "print(\"Sklearn Accuracy:\", accuracy(y_test, y_sk_pred))"
   ]
  },
  {
   "cell_type": "code",
   "execution_count": 10,
   "metadata": {},
   "outputs": [
    {
     "name": "stdout",
     "output_type": "stream",
     "text": [
      "Feature[5] ≤ 0.0018  |  Gain=0.2738\n",
      "→ True branch:\n",
      "    Feature[2] ≤ 0.5552  |  Gain=0.0284\n",
      "    → True branch:\n",
      "        Feature[0] ≤ 1.1331  |  Gain=0.0464\n",
      "        → True branch:\n",
      "            Feature[0] ≤ 0.6642  |  Gain=0.1211\n",
      "            → True branch:\n",
      "                Feature[0] ≤ -1.8437  |  Gain=0.0203\n",
      "                → True branch:\n",
      "                    Predict: 0 (samples=44)\n",
      "                → False branch:\n",
      "                    Predict: 1 (samples=615)\n",
      "            → False branch:\n",
      "                Feature[9] ≤ 1.7273  |  Gain=0.0178\n",
      "                → True branch:\n",
      "                    Predict: 0 (samples=255)\n",
      "                → False branch:\n",
      "                    Predict: 1 (samples=13)\n",
      "        → False branch:\n",
      "            Feature[7] ≤ -0.8383  |  Gain=0.0017\n",
      "            → True branch:\n",
      "                Feature[7] ≤ -0.8816  |  Gain=0.0534\n",
      "                → True branch:\n",
      "                    Predict: 1 (samples=40)\n",
      "                → False branch:\n",
      "                    Predict: 0 (samples=3)\n",
      "            → False branch:\n",
      "                Predict: 1 (samples=153)\n",
      "    → False branch:\n",
      "        Feature[6] ≤ 0.9162  |  Gain=0.0051\n",
      "        → True branch:\n",
      "            Feature[0] ≤ 0.6172  |  Gain=0.0050\n",
      "            → True branch:\n",
      "                Feature[0] ≤ -1.4670  |  Gain=0.0028\n",
      "                → True branch:\n",
      "                    Predict: 1 (samples=117)\n",
      "                → False branch:\n",
      "                    Predict: 1 (samples=1896)\n",
      "            → False branch:\n",
      "                Feature[6] ≤ -0.7448  |  Gain=0.0883\n",
      "                → True branch:\n",
      "                    Predict: 1 (samples=773)\n",
      "                → False branch:\n",
      "                    Predict: 1 (samples=269)\n",
      "        → False branch:\n",
      "            Feature[3] ≤ -0.3955  |  Gain=0.0858\n",
      "            → True branch:\n",
      "                Feature[2] ≤ 0.5764  |  Gain=0.1969\n",
      "                → True branch:\n",
      "                    Predict: 1 (samples=2)\n",
      "                → False branch:\n",
      "                    Predict: 0 (samples=13)\n",
      "            → False branch:\n",
      "                Feature[4] ≤ -0.2766  |  Gain=0.1849\n",
      "                → True branch:\n",
      "                    Predict: 1 (samples=5)\n",
      "                → False branch:\n",
      "                    Predict: 0 (samples=8)\n",
      "→ False branch:\n",
      "    Feature[2] ≤ -0.5948  |  Gain=0.0332\n",
      "    → True branch:\n",
      "        Feature[6] ≤ -0.7462  |  Gain=0.0123\n",
      "        → True branch:\n",
      "            Predict: 1 (samples=18)\n",
      "        → False branch:\n",
      "            Feature[6] ≤ -0.4747  |  Gain=0.0008\n",
      "            → True branch:\n",
      "                Feature[4] ≤ 0.8696  |  Gain=0.2086\n",
      "                → True branch:\n",
      "                    Predict: 0 (samples=15)\n",
      "                → False branch:\n",
      "                    Predict: 1 (samples=3)\n",
      "            → False branch:\n",
      "                Feature[7] ≤ 3.2015  |  Gain=0.0007\n",
      "                → True branch:\n",
      "                    Predict: 0 (samples=2736)\n",
      "                → False branch:\n",
      "                    Predict: 1 (samples=1)\n",
      "    → False branch:\n",
      "        Feature[0] ≤ 1.1818  |  Gain=0.0505\n",
      "        → True branch:\n",
      "            Feature[0] ≤ 0.6800  |  Gain=0.0569\n",
      "            → True branch:\n",
      "                Feature[2] ≤ -0.3859  |  Gain=0.0276\n",
      "                → True branch:\n",
      "                    Predict: 0 (samples=204)\n",
      "                → False branch:\n",
      "                    Predict: 0 (samples=420)\n",
      "            → False branch:\n",
      "                Feature[3] ≤ -1.7196  |  Gain=0.0056\n",
      "                → True branch:\n",
      "                    Predict: 0 (samples=12)\n",
      "                → False branch:\n",
      "                    Predict: 0 (samples=329)\n",
      "        → False branch:\n",
      "            Feature[0] ≤ 1.2319  |  Gain=0.0083\n",
      "            → True branch:\n",
      "                Feature[0] ≤ 1.2238  |  Gain=0.3750\n",
      "                → True branch:\n",
      "                    Predict: 1 (samples=3)\n",
      "                → False branch:\n",
      "                    Predict: 0 (samples=1)\n",
      "            → False branch:\n",
      "                Predict: 1 (samples=52)\n"
     ]
    }
   ],
   "source": [
    "CustomDecisionTreeClassifier.print_tree(tree)"
   ]
  },
  {
   "cell_type": "code",
   "execution_count": null,
   "metadata": {},
   "outputs": [],
   "source": []
  },
  {
   "cell_type": "code",
   "execution_count": null,
   "metadata": {},
   "outputs": [],
   "source": []
  }
 ],
 "metadata": {
  "kernelspec": {
   "display_name": ".venv-mlcore",
   "language": "python",
   "name": "python3"
  },
  "language_info": {
   "codemirror_mode": {
    "name": "ipython",
    "version": 3
   },
   "file_extension": ".py",
   "mimetype": "text/x-python",
   "name": "python",
   "nbconvert_exporter": "python",
   "pygments_lexer": "ipython3",
   "version": "3.12.7"
  }
 },
 "nbformat": 4,
 "nbformat_minor": 2
}
