{
 "cells": [
  {
   "cell_type": "code",
   "execution_count": 1,
   "metadata": {},
   "outputs": [],
   "source": [
    "import numpy as np\n",
    "import pandas as pd\n",
    "pd.set_option('display.max_columns', 100)\n",
    "from sklearn import datasets\n",
    "from sklearn.model_selection import train_test_split\n",
    "from sklearn.tree import DecisionTreeClassifier\n",
    "\n",
    "from mlcore.decision_tree import CustomDecisionTreeClassifier"
   ]
  },
  {
   "cell_type": "code",
   "execution_count": 2,
   "metadata": {},
   "outputs": [],
   "source": [
    "def accuracy(y_true, y_pred):\n",
    "    accuracy = np.sum(y_true == y_pred) / len(y_true)\n",
    "    return accuracy\n",
    "X, y = datasets.make_classification(n_samples=10000, n_features=20, random_state=4)\n",
    "X_train, X_test, y_train, y_test = train_test_split(X, y, test_size=0.2, random_state=1234)"
   ]
  },
  {
   "cell_type": "code",
   "execution_count": 3,
   "metadata": {},
   "outputs": [],
   "source": [
    "from collections import Counter\n",
    "\n",
    "class CustomRandomForest():\n",
    "    def __init__(\n",
    "        self,\n",
    "        n_estimators=100,\n",
    "        max_depth=None,\n",
    "        max_features=\"sqrt\",\n",
    "        min_samples_split=2,\n",
    "        min_samples_leaf=1,\n",
    "        min_impurity_decrease=1e-7,\n",
    "        criterion=\"gini\",\n",
    "        random_state=42\n",
    "    ):\n",
    "        self.n_estimators = n_estimators\n",
    "        self.max_depth = max_depth\n",
    "        self.max_features = max_features\n",
    "        self.min_samples_split = min_samples_split\n",
    "        self.min_samples_leaf = min_samples_leaf\n",
    "        self.min_impurity_decrease = min_impurity_decrease\n",
    "        self.criterion = criterion\n",
    "        self.random_state = random_state\n",
    "        self.trees = []\n",
    "        self.n_classes = None\n",
    "        self.rnd = np.random.RandomState(self.random_state)\n",
    "\n",
    "\n",
    "    def fit(self, X, y):\n",
    "        X = np.array(X)\n",
    "        y = np.array(y)\n",
    "        self.n_classes = len(np.unique(y))\n",
    "        n_samples, n_features = X.shape\n",
    "        for _ in range(self.n_estimators):\n",
    "            # bootstrapped dataset\n",
    "            X_sample, y_sample = self._bootstrap_dataset(X, y)\n",
    "            tree = CustomDecisionTreeClassifier(\n",
    "                max_depth=self.max_depth,\n",
    "                max_features=self.max_features,\n",
    "                min_samples_split=self.min_samples_split,\n",
    "                min_samples_leaf=self.min_samples_leaf,\n",
    "                min_impurity_decrease=self.min_impurity_decrease,\n",
    "                criterion=self.criterion,\n",
    "                n_classes=self.n_classes,\n",
    "            )\n",
    "            # random sampling of feature set\n",
    "            feature_sample_size = self._max_features_sample(n_features)\n",
    "            selected_features = self._bootstrap_featureset(n_features, feature_sample_size)\n",
    "            # print(f\"Selected features: {selected_features}\")\n",
    "            tree.fit(X_sample[:, selected_features], y_sample)\n",
    "            self.trees.append((tree,selected_features))\n",
    "\n",
    "    def predict(self, X):\n",
    "        # X: (m,n) -> Predictions: (m,)\n",
    "        # (n_estimators, m) -> Transpose -> (m, n_estimators)\n",
    "        tree_predictions = np.array([tree.predict(X[:, selected_features]) for tree,selected_features in self.trees]).T\n",
    "        # perform majority voting\n",
    "        predictions = [Counter(p).most_common(1)[0][0] for p in tree_predictions]\n",
    "        return np.array(predictions)\n",
    "\n",
    "    def _bootstrap_dataset(self, X, y):\n",
    "        \"\"\" Create bootstrapped sampled dataset with replacement \"\"\"\n",
    "        n_samples = X.shape[0]\n",
    "        indices = self.rnd.choice(n_samples, n_samples, replace=True).T\n",
    "        return X[indices], y[indices]\n",
    "    \n",
    "    def _bootstrap_featureset(self, n_features, feature_sample_size):\n",
    "        \"\"\" Create bootstrapped sampled featureset without replacement \"\"\"\n",
    "        return self.rnd.choice(n_features, size=feature_sample_size, replace=False)\n",
    "    \n",
    "    def _max_features_sample(self, n_features):\n",
    "        assert self.max_features in (\"sqrt\", \"log2\") or isinstance(self.max_features, int), \\\n",
    "            \"max_features must be 'sqrt', 'log2', or an integer\"\n",
    "        if isinstance(self.max_features, int):\n",
    "            assert self.max_features <= n_features, \\\n",
    "            \"max_features must be less than or equal to the number of features in the dataset\"\n",
    "            return self.max_features\n",
    "        elif self.max_features == \"sqrt\":\n",
    "            return int(np.sqrt(n_features))\n",
    "        elif self.max_features == \"log2\":\n",
    "            return int(np.log2(n_features))\n",
    "        return n_features\n",
    "\n"
   ]
  },
  {
   "cell_type": "code",
   "execution_count": 4,
   "metadata": {},
   "outputs": [
    {
     "name": "stdout",
     "output_type": "stream",
     "text": [
      "Custom Random Forest Accuracy: 0.8365\n"
     ]
    }
   ],
   "source": [
    "custom_rf = CustomRandomForest(n_estimators=10,\n",
    "                                 max_depth=5,\n",
    "                                 max_features=\"sqrt\",\n",
    "                                 min_samples_split=2,\n",
    "                                 min_samples_leaf=1,\n",
    "                                 min_impurity_decrease=1e-7,\n",
    "                                 criterion=\"gini\",\n",
    "                                 random_state=42)\n",
    "custom_rf.fit(X_train, y_train)\n",
    "y_pred = custom_rf.predict(X_test)  \n",
    "\n",
    "print(\"Custom Random Forest Accuracy:\", accuracy(y_test, y_pred))"
   ]
  },
  {
   "cell_type": "code",
   "execution_count": 5,
   "metadata": {},
   "outputs": [
    {
     "name": "stdout",
     "output_type": "stream",
     "text": [
      "Sklearn Random Forest Accuracy: 0.8905\n"
     ]
    }
   ],
   "source": [
    "from sklearn.ensemble import RandomForestClassifier\n",
    "\n",
    "sklearn_rf = RandomForestClassifier(n_estimators=10,\n",
    "                                    max_depth=5,\n",
    "                                    max_features=\"sqrt\",\n",
    "                                    min_samples_split=2,\n",
    "                                    min_samples_leaf=1,\n",
    "                                    min_impurity_decrease=1e-7,\n",
    "                                    criterion=\"gini\",\n",
    "                                    random_state=42,\n",
    "                                    bootstrap=True)\n",
    "sklearn_rf.fit(X_train, y_train)\n",
    "y_pred_sklearn = sklearn_rf.predict(X_test)\n",
    "\n",
    "print(\"Sklearn Random Forest Accuracy:\", accuracy(y_test, y_pred_sklearn))"
   ]
  },
  {
   "cell_type": "code",
   "execution_count": null,
   "metadata": {},
   "outputs": [],
   "source": []
  }
 ],
 "metadata": {
  "kernelspec": {
   "display_name": ".venv-mlcore",
   "language": "python",
   "name": "python3"
  },
  "language_info": {
   "codemirror_mode": {
    "name": "ipython",
    "version": 3
   },
   "file_extension": ".py",
   "mimetype": "text/x-python",
   "name": "python",
   "nbconvert_exporter": "python",
   "pygments_lexer": "ipython3",
   "version": "3.12.7"
  }
 },
 "nbformat": 4,
 "nbformat_minor": 2
}
