{
 "cells": [
  {
   "cell_type": "code",
   "execution_count": 1,
   "metadata": {},
   "outputs": [],
   "source": [
    "import numpy as np\n",
    "import pandas as pd\n",
    "pd.set_option('display.max_columns', 100)\n",
    "from sklearn import datasets\n",
    "from sklearn.model_selection import train_test_split\n",
    "\n",
    "from mlcore.random_forest import CustomRandomForestClassifier"
   ]
  },
  {
   "cell_type": "code",
   "execution_count": 2,
   "metadata": {},
   "outputs": [],
   "source": [
    "def accuracy(y_true, y_pred):\n",
    "    accuracy = np.sum(y_true == y_pred) / len(y_true)\n",
    "    return accuracy\n",
    "X, y = datasets.make_classification(n_samples=10000, n_features=30, random_state=4)\n",
    "X_train, X_test, y_train, y_test = train_test_split(X, y, test_size=0.2, random_state=1234)"
   ]
  },
  {
   "cell_type": "code",
   "execution_count": 3,
   "metadata": {},
   "outputs": [
    {
     "name": "stdout",
     "output_type": "stream",
     "text": [
      "Custom Random Forest Accuracy: 0.8985\n"
     ]
    }
   ],
   "source": [
    "custom_rf = CustomRandomForestClassifier(n_estimators=20,\n",
    "                                 max_depth=5,\n",
    "                                 max_features=10,\n",
    "                                 min_samples_split=2,\n",
    "                                 min_samples_leaf=1,\n",
    "                                 min_impurity_decrease=1e-7,\n",
    "                                 criterion=\"gini\",\n",
    "                                 random_state=42)\n",
    "custom_rf.fit(X_train, y_train)\n",
    "y_pred = custom_rf.predict(X_test)  \n",
    "\n",
    "print(\"Custom Random Forest Accuracy:\", accuracy(y_test, y_pred))"
   ]
  },
  {
   "cell_type": "code",
   "execution_count": 4,
   "metadata": {},
   "outputs": [
    {
     "name": "stdout",
     "output_type": "stream",
     "text": [
      "Sklearn Random Forest Accuracy: 0.902\n"
     ]
    }
   ],
   "source": [
    "from sklearn.ensemble import RandomForestClassifier\n",
    "\n",
    "sklearn_rf = RandomForestClassifier(n_estimators=20,\n",
    "                                    max_depth=5,\n",
    "                                    max_features=10,\n",
    "                                    min_samples_split=2,\n",
    "                                    min_samples_leaf=1,\n",
    "                                    min_impurity_decrease=1e-7,\n",
    "                                    criterion=\"gini\",\n",
    "                                    random_state=42,\n",
    "                                    bootstrap=True)\n",
    "sklearn_rf.fit(X_train, y_train)\n",
    "y_pred_sklearn = sklearn_rf.predict(X_test)\n",
    "\n",
    "print(\"Sklearn Random Forest Accuracy:\", accuracy(y_test, y_pred_sklearn))"
   ]
  },
  {
   "cell_type": "code",
   "execution_count": null,
   "metadata": {},
   "outputs": [],
   "source": []
  }
 ],
 "metadata": {
  "kernelspec": {
   "display_name": ".venv-mlcore",
   "language": "python",
   "name": "python3"
  },
  "language_info": {
   "codemirror_mode": {
    "name": "ipython",
    "version": 3
   },
   "file_extension": ".py",
   "mimetype": "text/x-python",
   "name": "python",
   "nbconvert_exporter": "python",
   "pygments_lexer": "ipython3",
   "version": "3.12.7"
  }
 },
 "nbformat": 4,
 "nbformat_minor": 2
}
